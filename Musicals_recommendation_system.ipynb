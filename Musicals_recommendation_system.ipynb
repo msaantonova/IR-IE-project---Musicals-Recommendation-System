{
  "nbformat": 4,
  "nbformat_minor": 0,
  "metadata": {
    "colab": {
      "provenance": [],
      "authorship_tag": "ABX9TyMZ8/jBYFi4BrEoMElyop++",
      "include_colab_link": true
    },
    "kernelspec": {
      "name": "python3",
      "display_name": "Python 3"
    },
    "language_info": {
      "name": "python"
    }
  },
  "cells": [
    {
      "cell_type": "markdown",
      "metadata": {
        "id": "view-in-github",
        "colab_type": "text"
      },
      "source": [
        "<a href=\"https://colab.research.google.com/github/msaantonova/IR-IE-project---Musicals-Recommendation-System/blob/main/Musicals_recommendation_system.ipynb\" target=\"_parent\"><img src=\"https://colab.research.google.com/assets/colab-badge.svg\" alt=\"Open In Colab\"/></a>"
      ]
    },
    {
      "cell_type": "markdown",
      "source": [
        "**IR/ IE Project** - Musical recommendation system"
      ],
      "metadata": {
        "id": "WHAgfFh8f_er"
      }
    },
    {
      "cell_type": "markdown",
      "source": [
        "Workflow:\n",
        "\n",
        "1. Finding the corpus\n",
        "\n",
        "Possible corpus: https://docs.google.com/document/d/1TqIBg_3frwDtaE518Cq_AxAdtSsM93OWp8MTfJq0iPE/edit?tab=t.0\n",
        "\n",
        "POr existing dataset with movie musicals reviews: https://www.kaggle.com/datasets/bwandowando/rotten-tomatoes-best-musicals-of-all-time/data\n",
        "2. Indexing\n",
        "3. Knowledge graphs (where do they go?)\n",
        "4. Create query examples\n",
        "5. Build an extraction pipeline for recognition of names etc."
      ],
      "metadata": {
        "id": "nbA5mCm8gIep"
      }
    },
    {
      "cell_type": "markdown",
      "source": [
        "**1. Working with the dataset**"
      ],
      "metadata": {
        "id": "6JJsuaxF7egA"
      }
    },
    {
      "cell_type": "code",
      "source": [
        "from google.colab import drive\n",
        "drive.mount('/content/drive')"
      ],
      "metadata": {
        "colab": {
          "base_uri": "https://localhost:8080/"
        },
        "id": "NJOeWW-x5w7k",
        "outputId": "1d5fb939-9e4f-4392-d414-26e8e35d11d3"
      },
      "execution_count": null,
      "outputs": [
        {
          "output_type": "stream",
          "name": "stdout",
          "text": [
            "Mounted at /content/drive\n"
          ]
        }
      ]
    },
    {
      "cell_type": "code",
      "source": [
        "import pandas as pd\n",
        "import zipfile\n",
        "import os\n",
        "from google.colab import files"
      ],
      "metadata": {
        "id": "AvBgTyJw6YyG"
      },
      "execution_count": null,
      "outputs": []
    },
    {
      "cell_type": "code",
      "source": [
        "file_path1 = '/content/movies.csv'\n",
        "with open(file_path1, 'r', encoding='utf-8') as f:\n",
        "    for i in range(5):\n",
        "        print(f.readline())"
      ],
      "metadata": {
        "colab": {
          "base_uri": "https://localhost:8080/"
        },
        "id": "RCmizs-mf-5I",
        "outputId": "46481d23-94b2-4e3d-ce3c-7cb208fbe163"
      },
      "execution_count": null,
      "outputs": [
        {
          "output_type": "stream",
          "name": "stdout",
          "text": [
            "\"movieId\",\"movieTitle\",\"movieYear\",\"movieURL\",\"critic_score\",\"audience_score\"\n",
            "\n",
            "\"6da4d992-97ca-3acc-834c-37c1ad34872c\",\"Singin' in the Rain\",1952,\"https://www.rottentomatoes.com/m/singin_in_the_rain\",\"100%\",\"95%\"\n",
            "\n",
            "\"56b1624a-1ceb-3598-8ee2-62236554094a\",\"Top Hat\",1935,\"https://www.rottentomatoes.com/m/top_hat\",\"100%\",\"90%\"\n",
            "\n",
            "\"718dd15b-50ee-3090-84c7-13244b587b00\",\"Meet Me in St. Louis\",1944,\"https://www.rottentomatoes.com/m/meet_me_in_st_louis\",\"100%\",\"87%\"\n",
            "\n",
            "\"80f30474-3ac3-36c7-a43b-648d1a627432\",\"The Wizard of Oz\",1939,\"https://www.rottentomatoes.com/m/the_wizard_of_oz_1939\",\"98%\",\"89%\"\n",
            "\n"
          ]
        }
      ]
    },
    {
      "cell_type": "markdown",
      "source": [
        "**`3. Knowledge graphs `**"
      ],
      "metadata": {
        "id": "lOqCWaEH7MfL"
      }
    },
    {
      "cell_type": "code",
      "source": [
        "import networkx as nx\n",
        "\n",
        "# Creating an emppty graph\n",
        "G = nx.Graph()\n",
        "\n",
        "# Adding nods for information\n",
        "G.add_node(\"Les Misérables\", type=\"musical\")\n",
        "G.add_node(\"The Phantom of the Opera\", type=\"musical\")\n",
        "G.add_node(\"Hugh Jackman\", type=\"actor\")\n",
        "G.add_node(\"Drama\", type=\"genre\")\n",
        "\n",
        "# Adding edges for relationships\n",
        "G.add_edge(\"Les Misérables\", \"Hugh Jackman\", relationship=\"actor_in\")\n",
        "G.add_edge(\"Les Misérables\", \"Drama\", relationship=\"has_genre\")\n",
        "G.add_edge(\"The Phantom of the Opera\", \"Hugh Jackman\", relationship=\"actor_in\")\n",
        "G.add_edge(\"The Phantom of the Opera\", \"Drama\", relationship=\"has_genre\")\n",
        "\n",
        "print(G.nodes)\n",
        "print(G.edges)\n"
      ],
      "metadata": {
        "colab": {
          "base_uri": "https://localhost:8080/"
        },
        "id": "_o5_ZsSV7Jd9",
        "outputId": "488aae0a-1282-4590-f70c-53d5506d3b8f"
      },
      "execution_count": null,
      "outputs": [
        {
          "output_type": "stream",
          "name": "stdout",
          "text": [
            "['Les Misérables', 'The Phantom of the Opera', 'Hugh Jackman', 'Drama']\n",
            "[('Les Misérables', 'Hugh Jackman'), ('Les Misérables', 'Drama'), ('The Phantom of the Opera', 'Hugh Jackman'), ('The Phantom of the Opera', 'Drama')]\n"
          ]
        }
      ]
    }
  ]
}