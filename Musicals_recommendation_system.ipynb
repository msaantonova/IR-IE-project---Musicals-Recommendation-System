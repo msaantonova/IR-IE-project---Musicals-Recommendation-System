{
  "nbformat": 4,
  "nbformat_minor": 0,
  "metadata": {
    "colab": {
      "provenance": [],
      "authorship_tag": "ABX9TyPOO8W4CWTHL2uY793bhLOC",
      "include_colab_link": true
    },
    "kernelspec": {
      "name": "python3",
      "display_name": "Python 3"
    },
    "language_info": {
      "name": "python"
    }
  },
  "cells": [
    {
      "cell_type": "markdown",
      "metadata": {
        "id": "view-in-github",
        "colab_type": "text"
      },
      "source": [
        "<a href=\"https://colab.research.google.com/github/msaantonova/IR-IE-project---Musicals-Recommendation-System/blob/main/Musicals_recommendation_system.ipynb\" target=\"_parent\"><img src=\"https://colab.research.google.com/assets/colab-badge.svg\" alt=\"Open In Colab\"/></a>"
      ]
    },
    {
      "cell_type": "markdown",
      "source": [
        "**IR/ IE Project** - Musical recommendation system"
      ],
      "metadata": {
        "id": "WHAgfFh8f_er"
      }
    },
    {
      "cell_type": "markdown",
      "source": [
        "Workflow:\n",
        "\n",
        "1. Finding the corpus\n",
        "\n",
        "Possible corpus: https://docs.google.com/document/d/1TqIBg_3frwDtaE518Cq_AxAdtSsM93OWp8MTfJq0iPE/edit?tab=t.0\n",
        "\n",
        "POr existing dataset with movie musicals reviews: https://www.kaggle.com/datasets/bwandowando/rotten-tomatoes-best-musicals-of-all-time/data\n",
        "2. Indexing\n",
        "3. Knowledge graphs (where do they go?)\n",
        "4. Create query examples\n",
        "5. Build an extraction pipeline for recognition of names etc."
      ],
      "metadata": {
        "id": "nbA5mCm8gIep"
      }
    },
    {
      "cell_type": "markdown",
      "source": [
        "**1. Working with the dataset**"
      ],
      "metadata": {
        "id": "6JJsuaxF7egA"
      }
    },
    {
      "cell_type": "code",
      "source": [
        "from google.colab import drive\n",
        "drive.mount('/content/drive')"
      ],
      "metadata": {
        "colab": {
          "base_uri": "https://localhost:8080/"
        },
        "id": "NJOeWW-x5w7k",
        "outputId": "8d1e83a6-71c3-427f-86df-1f9be1f38066"
      },
      "execution_count": 1,
      "outputs": [
        {
          "output_type": "stream",
          "name": "stdout",
          "text": [
            "Mounted at /content/drive\n"
          ]
        }
      ]
    },
    {
      "cell_type": "code",
      "source": [
        "import pandas as pd\n",
        "import zipfile\n",
        "import os\n",
        "from google.colab import files"
      ],
      "metadata": {
        "id": "AvBgTyJw6YyG"
      },
      "execution_count": 2,
      "outputs": []
    },
    {
      "cell_type": "code",
      "source": [
        "file_path1 = '/content/movies.csv'\n",
        "with open(file_path1, 'r', encoding='utf-8') as f:\n",
        "    for i in range(5):\n",
        "        print(f.readline())"
      ],
      "metadata": {
        "colab": {
          "base_uri": "https://localhost:8080/"
        },
        "id": "RCmizs-mf-5I",
        "outputId": "497656d1-c496-49a2-9aa5-b09fccc30637"
      },
      "execution_count": 3,
      "outputs": [
        {
          "output_type": "stream",
          "name": "stdout",
          "text": [
            "\"movieId\",\"movieTitle\",\"movieYear\",\"movieURL\",\"critic_score\",\"audience_score\"\n",
            "\n",
            "\"6da4d992-97ca-3acc-834c-37c1ad34872c\",\"Singin' in the Rain\",1952,\"https://www.rottentomatoes.com/m/singin_in_the_rain\",\"100%\",\"95%\"\n",
            "\n",
            "\"56b1624a-1ceb-3598-8ee2-62236554094a\",\"Top Hat\",1935,\"https://www.rottentomatoes.com/m/top_hat\",\"100%\",\"90%\"\n",
            "\n",
            "\"718dd15b-50ee-3090-84c7-13244b587b00\",\"Meet Me in St. Louis\",1944,\"https://www.rottentomatoes.com/m/meet_me_in_st_louis\",\"100%\",\"87%\"\n",
            "\n",
            "\"80f30474-3ac3-36c7-a43b-648d1a627432\",\"The Wizard of Oz\",1939,\"https://www.rottentomatoes.com/m/the_wizard_of_oz_1939\",\"98%\",\"89%\"\n",
            "\n"
          ]
        }
      ]
    },
    {
      "cell_type": "markdown",
      "source": [
        "**`3. Template for possible knowledge graph `**"
      ],
      "metadata": {
        "id": "lOqCWaEH7MfL"
      }
    },
    {
      "cell_type": "code",
      "source": [
        "def add_musical_to_graph(G, title, release_date, genre, location, director, actors, characters, songs, spotify_link, time_period, composer, source_material):\n",
        "    G.add_node(title, type='musical')\n",
        "\n",
        "    # release date\n",
        "    G.add_node(release_date, type='date')\n",
        "    G.add_edge(title, release_date, relationship='released_on')\n",
        "\n",
        "    # genre\n",
        "    G.add_node(genre, type='genre')\n",
        "    G.add_edge(title, genre, relationship='has_genre')\n",
        "\n",
        "    # location\n",
        "    G.add_node(location, type='place')\n",
        "    G.add_edge(title, location, relationship='set_in')\n",
        "\n",
        "    # director\n",
        "    G.add_node(director, type='director')\n",
        "    G.add_edge(title, director, relationship='directed_by')\n",
        "\n",
        "    # actors\n",
        "    for actor in actors:\n",
        "        G.add_node(actor, type='actor')\n",
        "        G.add_edge(title, actor, relationship='features_actor')\n",
        "\n",
        "    # characters\n",
        "    for character in characters:\n",
        "        G.add_node(character, type='character')\n",
        "        G.add_edge(title, character, relationship='features_character')\n",
        "        G.add_edge(actor, character, relationship='played_by_actor')\n",
        "\n",
        "    # songs\n",
        "    for song in songs:\n",
        "        G.add_node(song, type='song')\n",
        "        G.add_edge(title, song, relationship='includes_song')\n",
        "        G.add_edge(song, composer, relationship='written_by')\n",
        "        G.add_edge(song, actor, relationship='performed_by')\n",
        "        G.add_edge(song, character, relationship='performed_by')\n",
        "\n",
        "    # Spotify or apple music\n",
        "    G.add_node(spotify_link, type='link')\n",
        "    G.add_edge(title, spotify_link, relationship='has_music_link')\n",
        "\n",
        "    #time_period\n",
        "    G.add_node(time_period, type='time_period')\n",
        "    G.add_edge(title, time_period, relationship='set_in_time_period')\n",
        "\n",
        "    #composer\n",
        "    G.add_node(composer, type='composer')\n",
        "    G.add_edge(composer, title, relationship='created_music_for')\n",
        "\n",
        "    #source_material\n",
        "    G.add_node(source_material, type='source_material')\n",
        "    G.add_edge(title, source_material, relationship='is_based_on_source')\n",
        "\n",
        "    #source_author\n",
        "    G.add_node(source_author, type='source_author')\n",
        "    G.add_edge(source_material, source_author, relationship='is_written_by')\n",
        "\n",
        "\n",
        "    return G\n"
      ],
      "metadata": {
        "id": "_o5_ZsSV7Jd9"
      },
      "execution_count": 6,
      "outputs": []
    },
    {
      "cell_type": "markdown",
      "source": [
        "4. How to get information? Manuelly or parsing\n",
        "\n",
        "EXAMPLE - Parsing from IMDB"
      ],
      "metadata": {
        "id": "-be9t_VtV1Kk"
      }
    },
    {
      "cell_type": "code",
      "source": [
        "!pip install IMDbPY\n",
        "\n",
        "from imdb import IMDb\n",
        "\n",
        "ia = IMDb()\n",
        "\n",
        "results = ia.search_movie(\"Les Misérables\")\n",
        "\n",
        "movie = results[0]\n",
        "ia.update(movie)\n",
        "\n",
        "print(\"🎭 Title:\", movie['title'])\n",
        "print(\"📅 Release date:\", movie['year'])\n",
        "print(\"🎬 Director(s):\", [d['name'] for d in movie.get('directors', [])])\n",
        "print(\"🎞️ Genres:\", movie.get('genres', []))\n",
        "print(\"⭐ Actors:\", [a['name'] for a in movie.get('cast', [])[:5]])\n",
        "print(\"🙋🏼‍♂️ Characters:\", [a.currentRole['name'] for a in movie.get('cast', [])[:5]])\n",
        "\n",
        "\n",
        "\n",
        "# print(\"🎹 Composer\", [c['name'] for c in movie.get('composer', [])])\n",
        "# print(\"🎵 Songs\", [s['name'] for s in movie.get('songs', [])])\n",
        "# print(\"⏱️ Time period\", movie.get('time period', []))\n",
        "# source author, source material"
      ],
      "metadata": {
        "colab": {
          "base_uri": "https://localhost:8080/"
        },
        "id": "cZnfM7aIV0zJ",
        "outputId": "3dcb9b33-b9f1-43da-dd50-7f93e594b150"
      },
      "execution_count": 13,
      "outputs": [
        {
          "output_type": "stream",
          "name": "stdout",
          "text": [
            "Requirement already satisfied: IMDbPY in /usr/local/lib/python3.11/dist-packages (2022.7.9)\n",
            "Requirement already satisfied: cinemagoer in /usr/local/lib/python3.11/dist-packages (from IMDbPY) (2023.5.1)\n",
            "Requirement already satisfied: SQLAlchemy in /usr/local/lib/python3.11/dist-packages (from cinemagoer->IMDbPY) (2.0.40)\n",
            "Requirement already satisfied: lxml in /usr/local/lib/python3.11/dist-packages (from cinemagoer->IMDbPY) (5.3.2)\n",
            "Requirement already satisfied: greenlet>=1 in /usr/local/lib/python3.11/dist-packages (from SQLAlchemy->cinemagoer->IMDbPY) (3.2.0)\n",
            "Requirement already satisfied: typing-extensions>=4.6.0 in /usr/local/lib/python3.11/dist-packages (from SQLAlchemy->cinemagoer->IMDbPY) (4.13.2)\n",
            "🎭 Title: Les Misérables\n",
            "📅 Release date: 2012\n",
            "🎬 Director(s): ['Tom Hooper']\n",
            "🎞️ Genres: ['Drama', 'Musical', 'Romance']\n",
            "⭐ Actors: ['Hugh Jackman', 'Russell Crowe', 'Anne Hathaway', 'Amanda Seyfried', 'Sacha Baron Cohen']\n",
            "🙋🏼‍♂️ Characters: ['Jean Valjean', 'Javert', 'Fantine', 'Cosette', 'Thénardier']\n"
          ]
        }
      ]
    },
    {
      "cell_type": "markdown",
      "source": [
        "There is a kaggle dataset that contains 100 most popular musicals. However there is not enough information forr the knowledge graph. Therefore the parsing could be done on thhe basis of the mentioned datased on the Wiipedia or IMDB website to get additional nessesary information."
      ],
      "metadata": {
        "id": "7GiFB167C6ab"
      }
    },
    {
      "cell_type": "code",
      "source": [
        "import csv\n",
        "from imdb import IMDb\n",
        "\n",
        "# Инициализируем IMDb клиент\n",
        "ia = IMDb()\n",
        "\n",
        "# Хранилище результатов\n",
        "musicals_data = []\n",
        "\n",
        "# Читаем первые 5 мюзиклов из CSV\n",
        "with open(file_path1, 'r', encoding='utf-8') as f:\n",
        "    reader = csv.DictReader(f)\n",
        "    for i, row in enumerate(reader):\n",
        "        if i >= 5:  # ограничим пока 5 строками\n",
        "            break\n",
        "\n",
        "        title = row['movieTitle'].strip()\n",
        "        print(f\"🔍 Ищу: {title}\")\n",
        "\n",
        "        try:\n",
        "            # Ищем фильм на IMDb\n",
        "            results = ia.search_movie(title)\n",
        "            if not results:\n",
        "                print(f\"⚠️ Не найдено: {title}\")\n",
        "                continue\n",
        "\n",
        "            movie = results[0]\n",
        "            ia.update(movie)\n",
        "\n",
        "            # Собираем нужную информацию\n",
        "            data = {\n",
        "                \"title\": movie.get('title'),\n",
        "                \"year\": movie.get('year'),\n",
        "                \"directors\": [d['name'] for d in movie.get('directors', [])],\n",
        "                \"genres\": movie.get('genres', []),\n",
        "                \"actors\": [a['name'] for a in movie.get('cast', [])[:5]],  # первые 5 актёров\n",
        "            }\n",
        "            musicals_data.append(data)\n",
        "\n",
        "        except Exception as e:\n",
        "            print(f\"❌ Ошибка при обработке {title}: {e}\")\n",
        "\n",
        "# Выводим результаты\n",
        "for entry in musicals_data:\n",
        "    print(entry)\n"
      ],
      "metadata": {
        "colab": {
          "base_uri": "https://localhost:8080/"
        },
        "id": "OIijxs3OBiJd",
        "outputId": "73d728a2-e176-4ab6-8ddf-3b9301916e9c"
      },
      "execution_count": null,
      "outputs": [
        {
          "output_type": "stream",
          "name": "stdout",
          "text": [
            "🔍 Ищу: Singin' in the Rain\n",
            "🔍 Ищу: Top Hat\n",
            "🔍 Ищу: Meet Me in St. Louis\n",
            "🔍 Ищу: The Wizard of Oz\n",
            "🔍 Ищу: A Hard Day's Night\n",
            "{'title': \"Singin' in the Rain\", 'year': 1952, 'directors': ['Stanley Donen', 'Gene Kelly'], 'genres': ['Comedy', 'Musical', 'Romance'], 'actors': ['Gene Kelly', \"Donald O'Connor\", 'Debbie Reynolds', 'Jean Hagen', 'Millard Mitchell']}\n",
            "{'title': 'Top Hat', 'year': 1935, 'directors': ['Mark Sandrich'], 'genres': ['Comedy', 'Musical', 'Romance'], 'actors': ['Fred Astaire', 'Ginger Rogers', 'Edward Everett Horton', 'Erik Rhodes', 'Eric Blore']}\n",
            "{'title': 'Meet Me in St. Louis', 'year': 1944, 'directors': ['Vincente Minnelli'], 'genres': ['Comedy', 'Drama', 'Family', 'Musical', 'Romance'], 'actors': ['Judy Garland', \"Margaret O'Brien\", 'Mary Astor', 'Lucille Bremer', 'Leon Ames']}\n",
            "{'title': 'The Wizard of Oz', 'year': 1939, 'directors': ['Victor Fleming', 'King Vidor'], 'genres': ['Adventure', 'Family', 'Fantasy', 'Musical'], 'actors': ['Judy Garland', 'Frank Morgan', 'Ray Bolger', 'Bert Lahr', 'Jack Haley']}\n",
            "{'title': \"A Hard Day's Night\", 'year': 1964, 'directors': ['Richard Lester'], 'genres': ['Comedy', 'Musical'], 'actors': ['John Lennon', 'Paul McCartney', 'George Harrison', 'Ringo Starr', 'Wilfrid Brambell']}\n"
          ]
        }
      ]
    },
    {
      "cell_type": "markdown",
      "source": [
        "5. Next steps:\n",
        "\n",
        "    1) Fix the knowledge graph according to the plan ✅\n",
        "\n",
        "    2) Figure out how to save combined csv\n",
        "\n",
        "    3) Figure out how to add links (spotify/ apple music)\n",
        "\n",
        "    4) Check requirements + testing queries"
      ],
      "metadata": {
        "id": "Wlp9vrGTC1p7"
      }
    }
  ]
}